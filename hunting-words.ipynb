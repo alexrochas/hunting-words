{
 "cells": [
  {
   "cell_type": "code",
   "execution_count": 192,
   "metadata": {},
   "outputs": [
    {
     "data": {
      "text/plain": [
       "[\"carro\", \"cachorro\"]"
      ]
     },
     "execution_count": 192,
     "metadata": {},
     "output_type": "execute_result"
    }
   ],
   "source": [
    "input = [\n",
    "  'carro', 'cachorro'\n",
    "  ]"
   ]
  },
  {
   "cell_type": "code",
   "execution_count": 193,
   "metadata": {},
   "outputs": [
    {
     "data": {
      "text/plain": [
       "10"
      ]
     },
     "execution_count": 193,
     "metadata": {},
     "output_type": "execute_result"
    }
   ],
   "source": [
    "size = 10"
   ]
  },
  {
   "cell_type": "code",
   "execution_count": 194,
   "metadata": {},
   "outputs": [
    {
     "data": {
      "text/plain": [
       "\"m\""
      ]
     },
     "execution_count": 194,
     "metadata": {},
     "output_type": "execute_result"
    }
   ],
   "source": [
    "o = [('a'..'z')].map(&:to_a).flatten\n",
    "o[rand(o.length)]"
   ]
  },
  {
   "cell_type": "code",
   "execution_count": 195,
   "metadata": {},
   "outputs": [
    {
     "data": {
      "text/latex": [
       "$$\\left(\\begin{array}{cccccccccc}\n",
       "  a&f&w&l&o&q&c&p&o&x\\\\\n",
       "  n&h&d&y&a&t&i&r&m&v\\\\\n",
       "  w&c&s&x&b&z&a&v&i&p\\\\\n",
       "  y&t&p&w&q&r&q&e&l&v\\\\\n",
       "  e&k&f&s&v&j&g&n&a&f\\\\\n",
       "  y&j&a&a&z&f&b&s&u&i\\\\\n",
       "  m&w&w&b&f&s&b&k&n&c\\\\\n",
       "  e&n&g&z&z&y&d&t&u&b\\\\\n",
       "  a&w&m&y&a&l&l&v&x&q\\\\\n",
       "  l&j&v&e&x&n&k&w&g&o\\\\\n",
       "\\end{array}\\right)$$"
      ],
      "text/plain": [
       "Matrix[[\"a\", \"f\", \"w\", \"l\", \"o\", \"q\", \"c\", \"p\", \"o\", \"x\"], [\"n\", \"h\", \"d\", \"y\", \"a\", \"t\", \"i\", \"r\", \"m\", \"v\"], [\"w\", \"c\", \"s\", \"x\", \"b\", \"z\", \"a\", \"v\", \"i\", \"p\"], [\"y\", \"t\", \"p\", \"w\", \"q\", \"r\", \"q\", \"e\", \"l\", \"v\"], [\"e\", \"k\", \"f\", \"s\", \"v\", \"j\", \"g\", \"n\", \"a\", \"f\"], [\"y\", \"j\", \"a\", \"a\", \"z\", \"f\", \"b\", \"s\", \"u\", \"i\"], [\"m\", \"w\", \"w\", \"b\", \"f\", \"s\", \"b\", \"k\", \"n\", \"c\"], [\"e\", \"n\", \"g\", \"z\", \"z\", \"y\", \"d\", \"t\", \"u\", \"b\"], [\"a\", \"w\", \"m\", \"y\", \"a\", \"l\", \"l\", \"v\", \"x\", \"q\"], [\"l\", \"j\", \"v\", \"e\", \"x\", \"n\", \"k\", \"w\", \"g\", \"o\"]]"
      ]
     },
     "execution_count": 195,
     "metadata": {},
     "output_type": "execute_result"
    }
   ],
   "source": [
    "require 'matrix'\n",
    "\n",
    "matrix = Matrix.build(size, size) { o[rand(o.length)] }"
   ]
  },
  {
   "cell_type": "code",
   "execution_count": 196,
   "metadata": {},
   "outputs": [
    {
     "data": {
      "text/plain": [
       "false"
      ]
     },
     "execution_count": 196,
     "metadata": {},
     "output_type": "execute_result"
    }
   ],
   "source": [
    "require 'functional'"
   ]
  },
  {
   "cell_type": "code",
   "execution_count": 197,
   "metadata": {},
   "outputs": [
    {
     "data": {
      "text/plain": [
       ":[]="
      ]
     },
     "execution_count": 197,
     "metadata": {},
     "output_type": "execute_result"
    }
   ],
   "source": [
    "class Matrix\n",
    "  def []=(i, j, x)\n",
    "    @rows[i][j] = x\n",
    "  end\n",
    "end"
   ]
  },
  {
   "cell_type": "code",
   "execution_count": 198,
   "metadata": {},
   "outputs": [
    {
     "data": {
      "text/latex": [
       "$$\\left(\\begin{array}{cccccccccc}\n",
       "  a&f&w&l&o&q&c&p&o&x\\\\\n",
       "  n&h&d&y&a&t&i&r&m&v\\\\\n",
       "  w&c&s&x&b&z&a&v&i&p\\\\\n",
       "  y&t&p&w&q&r&q&e&l&v\\\\\n",
       "  e&k&f&s&v&j&g&n&a&f\\\\\n",
       "  y&j&a&a&z&f&b&s&u&i\\\\\n",
       "  m&w&w&b&f&s&b&k&n&c\\\\\n",
       "  e&n&g&z&z&y&d&t&u&b\\\\\n",
       "  a&w&m&y&a&l&l&v&x&q\\\\\n",
       "  l&j&v&e&x&n&k&w&g&o\\\\\n",
       "\\end{array}\\right)$$"
      ],
      "text/plain": [
       "Matrix[[\"a\", \"f\", \"w\", \"l\", \"o\", \"q\", \"c\", \"p\", \"o\", \"x\"], [\"n\", \"h\", \"d\", \"y\", \"a\", \"t\", \"i\", \"r\", \"m\", \"v\"], [\"w\", \"c\", \"s\", \"x\", \"b\", \"z\", \"a\", \"v\", \"i\", \"p\"], [\"y\", \"t\", \"p\", \"w\", \"q\", \"r\", \"q\", \"e\", \"l\", \"v\"], [\"e\", \"k\", \"f\", \"s\", \"v\", \"j\", \"g\", \"n\", \"a\", \"f\"], [\"y\", \"j\", \"a\", \"a\", \"z\", \"f\", \"b\", \"s\", \"u\", \"i\"], [\"m\", \"w\", \"w\", \"b\", \"f\", \"s\", \"b\", \"k\", \"n\", \"c\"], [\"e\", \"n\", \"g\", \"z\", \"z\", \"y\", \"d\", \"t\", \"u\", \"b\"], [\"a\", \"w\", \"m\", \"y\", \"a\", \"l\", \"l\", \"v\", \"x\", \"q\"], [\"l\", \"j\", \"v\", \"e\", \"x\", \"n\", \"k\", \"w\", \"g\", \"o\"]]"
      ]
     },
     "execution_count": 198,
     "metadata": {},
     "output_type": "execute_result"
    }
   ],
   "source": [
    "matrix"
   ]
  },
  {
   "cell_type": "code",
   "execution_count": 216,
   "metadata": {},
   "outputs": [
    {
     "name": "stdout",
     "output_type": "stream",
     "text": [
      "coluna [0, 6]\n",
      "c in 0,0\n",
      "a in 1,0\n",
      "r in 2,0\n",
      "r in 3,0\n",
      "o in 4,0\n",
      "coluna [0, 6]\n",
      "c in 0,0\n",
      "a in 1,0\n",
      "c in 2,0\n",
      "h in 3,0\n",
      "o in 4,0\n",
      "r in 5,0\n",
      "r in 6,0\n",
      "o in 7,0\n"
     ]
    },
    {
     "data": {
      "text/plain": [
       "[\"carro\", \"cachorro\"]"
      ]
     },
     "execution_count": 216,
     "metadata": {},
     "output_type": "execute_result"
    }
   ],
   "source": [
    "mutableMatrix = Marshal.load(Marshal.dump(matrix))\n",
    "\n",
    "input.each do |word|\n",
    "  index = []\n",
    "  either = nil\n",
    "  matrix.each_with_index do |e, row, col|  \n",
    "    if word.chars.first == e\n",
    "      if col + word.size < size # linha\n",
    "        either = Functional::Either.left([row, col])\n",
    "        break\n",
    "      elsif row + word.size < size # coluna\n",
    "        either = Functional::Either.right([row, col])\n",
    "        break\n",
    "      end\n",
    "    end\n",
    "  end\n",
    "  \n",
    "  chars = word.chars\n",
    "  \n",
    "  if either != nil and either.right?\n",
    "    puts \"coluna #{either.right}\"\n",
    "    r,c = either.right\n",
    "    (r..r+word.length-1).each_with_index do |column, index|\n",
    "      puts \"#{chars[index]} in #{column},#{r}\"\n",
    "      mutableMatrix.[]= column, r, chars[index]\n",
    "    end\n",
    "  elsif either != nil and either.left?\n",
    "    puts \"linha #{either.left}\" \n",
    "    r,c = either.left\n",
    "    (c..c+word.length-1).each_with_index do |row, index|\n",
    "      puts \"#{chars[index]} in #{c},#{row}\"\n",
    "      mutableMatrix.[]= c, row, chars[index]\n",
    "    end\n",
    "  else\n",
    "    puts \"Not possible to insert #{word}\"\n",
    "  end\n",
    "end"
   ]
  },
  {
   "cell_type": "code",
   "execution_count": 217,
   "metadata": {},
   "outputs": [
    {
     "data": {
      "text/latex": [
       "$$\\left(\\begin{array}{cccccccccc}\n",
       "  c&f&w&l&o&q&c&p&o&x\\\\\n",
       "  a&h&d&y&a&t&i&r&m&v\\\\\n",
       "  c&c&s&x&b&z&a&v&i&p\\\\\n",
       "  h&t&p&w&q&r&q&e&l&v\\\\\n",
       "  o&k&f&s&v&j&g&n&a&f\\\\\n",
       "  r&j&a&a&z&f&b&s&u&i\\\\\n",
       "  r&w&w&b&f&s&b&k&n&c\\\\\n",
       "  o&n&g&z&z&y&d&t&u&b\\\\\n",
       "  a&w&m&y&a&l&l&v&x&q\\\\\n",
       "  l&j&v&e&x&n&k&w&g&o\\\\\n",
       "\\end{array}\\right)$$"
      ],
      "text/plain": [
       "Matrix[[\"c\", \"f\", \"w\", \"l\", \"o\", \"q\", \"c\", \"p\", \"o\", \"x\"], [\"a\", \"h\", \"d\", \"y\", \"a\", \"t\", \"i\", \"r\", \"m\", \"v\"], [\"c\", \"c\", \"s\", \"x\", \"b\", \"z\", \"a\", \"v\", \"i\", \"p\"], [\"h\", \"t\", \"p\", \"w\", \"q\", \"r\", \"q\", \"e\", \"l\", \"v\"], [\"o\", \"k\", \"f\", \"s\", \"v\", \"j\", \"g\", \"n\", \"a\", \"f\"], [\"r\", \"j\", \"a\", \"a\", \"z\", \"f\", \"b\", \"s\", \"u\", \"i\"], [\"r\", \"w\", \"w\", \"b\", \"f\", \"s\", \"b\", \"k\", \"n\", \"c\"], [\"o\", \"n\", \"g\", \"z\", \"z\", \"y\", \"d\", \"t\", \"u\", \"b\"], [\"a\", \"w\", \"m\", \"y\", \"a\", \"l\", \"l\", \"v\", \"x\", \"q\"], [\"l\", \"j\", \"v\", \"e\", \"x\", \"n\", \"k\", \"w\", \"g\", \"o\"]]"
      ]
     },
     "execution_count": 217,
     "metadata": {},
     "output_type": "execute_result"
    }
   ],
   "source": [
    "mutableMatrix"
   ]
  },
  {
   "cell_type": "code",
   "execution_count": null,
   "metadata": {},
   "outputs": [],
   "source": []
  }
 ],
 "metadata": {
  "kernelspec": {
   "display_name": "Ruby 2.4.1",
   "language": "ruby",
   "name": "ruby"
  },
  "language_info": {
   "file_extension": ".rb",
   "mimetype": "application/x-ruby",
   "name": "ruby",
   "version": "2.4.1"
  }
 },
 "nbformat": 4,
 "nbformat_minor": 2
}
